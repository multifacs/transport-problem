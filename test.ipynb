{
 "cells": [
  {
   "cell_type": "code",
   "execution_count": 3,
   "metadata": {},
   "outputs": [],
   "source": [
    "import copy\n",
    "\n",
    "grid = [[3, 1, 7, 4], [2, 6, 5, 9], [8, 3, 3, 2]]  # table\n",
    "supply = [300, 400, 500]  # supply\n",
    "demand = [250, 350, 400, 200]  # demand\n"
   ]
  },
  {
   "cell_type": "code",
   "execution_count": 4,
   "metadata": {},
   "outputs": [
    {
     "name": "stdout",
     "output_type": "stream",
     "text": [
      "The initial feasible basic solution is 2850 in 72 loops\n"
     ]
    }
   ],
   "source": [
    "def least_cost_cell(g, s, d):\n",
    "    grid = copy.deepcopy(g)\n",
    "    supply = list(s)\n",
    "    demand = list(d)\n",
    "\n",
    "    visited_rows = []\n",
    "    visited_cols = []\n",
    "\n",
    "    ans = 0\n",
    "\n",
    "    least_row = 0\n",
    "    least_col = 0\n",
    "    least_cell = grid[0][0]\n",
    "    counter = 0\n",
    "    loop_counter = 0\n",
    "    while (sum(supply) + sum(demand) != 0):\n",
    "        counter += 1\n",
    "        loop_counter += 1\n",
    "        if counter > 1000:\n",
    "            ans = 0\n",
    "            break\n",
    "        for i in range(len(grid)):\n",
    "            loop_counter += 1\n",
    "            if i in visited_rows:\n",
    "                continue\n",
    "            for j in range(len(grid[0])):\n",
    "                loop_counter += 1\n",
    "                if j in visited_cols:\n",
    "                    continue\n",
    "\n",
    "                cell = grid[i][j]\n",
    "                if cell < least_cell:\n",
    "                    least_cell = cell\n",
    "                    least_row = i\n",
    "                    least_col = j\n",
    "\n",
    "        supply_val = supply[least_row]\n",
    "        demand_val = demand[least_col]\n",
    "        min_val = min(supply_val, demand_val)\n",
    "\n",
    "        ans += grid[least_row][least_col] * min_val\n",
    "\n",
    "        grid[least_row][least_col] = min_val\n",
    "        supply[least_row] -= min_val\n",
    "        demand[least_col] -= min_val\n",
    "\n",
    "        if supply[least_row] == 0:\n",
    "            visited_rows.append(least_row)\n",
    "        else:\n",
    "            visited_cols.append(least_col)\n",
    "\n",
    "        least_cell = min_val\n",
    "\n",
    "    return ans, loop_counter\n",
    "\n",
    "\n",
    "ans, loop_count = least_cost_cell(grid, supply, demand)\n",
    "print(\"The initial feasible basic solution is\", ans, \"in\", loop_count, \"loops\")\n"
   ]
  },
  {
   "cell_type": "code",
   "execution_count": 5,
   "metadata": {},
   "outputs": [
    {
     "data": {
      "text/plain": [
       "([[13, 10, 12, 13, 14, 14, 10, 11, 14, 1],\n",
       "  [6, 12, 6, 10, 8, 5, 1, 9, 10, 11],\n",
       "  [4, 12, 2, 12, 10, 2, 4, 1, 13, 12],\n",
       "  [15, 4, 6, 2, 6, 6, 4, 1, 13, 10],\n",
       "  [10, 13, 8, 13, 7, 13, 8, 13, 6, 1]],\n",
       " [1300, 1300, 850, 750, 850],\n",
       " [50, 400, 500, 350, 750, 550, 750, 350, 750, 600])"
      ]
     },
     "execution_count": 5,
     "metadata": {},
     "output_type": "execute_result"
    }
   ],
   "source": [
    "import random\n",
    "\n",
    "\n",
    "def generate_transport_problem(n, m, cost_lim=15):\n",
    "    grid = []\n",
    "    supply = []\n",
    "    demand = []\n",
    "\n",
    "    for i in range(n):\n",
    "        supply.append(int(random.random() * 20) * 50 + 50)\n",
    "    for i in range(m):\n",
    "        demand.append(int(random.random() * 15) * 50 + 50)\n",
    "\n",
    "    sum_supply = sum(supply)\n",
    "    sum_demand = sum(demand)\n",
    "\n",
    "    if (sum_demand > sum_supply):\n",
    "        diff = sum_demand - sum_supply\n",
    "        part = int(diff / n)\n",
    "        rem = diff - part * n\n",
    "\n",
    "        for i in range(n):\n",
    "            supply[i] += part\n",
    "        supply[0] += rem\n",
    "    else:\n",
    "        diff = sum_supply - sum_demand\n",
    "        part = int(diff / m)\n",
    "        rem = diff - part * m\n",
    "\n",
    "        for i in range(m):\n",
    "            demand[i] += part\n",
    "        demand[0] += rem\n",
    "\n",
    "    # print(supply, sum(supply))\n",
    "    # print(demand, sum(demand))\n",
    "\n",
    "    for i in range(n):\n",
    "        grid.append([])\n",
    "        for j in range(m):\n",
    "            grid[i].append(int(random.random() * cost_lim + 1))\n",
    "    # print(grid)\n",
    "    return grid, supply, demand\n",
    "\n",
    "\n",
    "generate_transport_problem(5, 10)\n"
   ]
  },
  {
   "cell_type": "code",
   "execution_count": 36,
   "metadata": {},
   "outputs": [
    {
     "name": "stdout",
     "output_type": "stream",
     "text": [
      "Skip!\n"
     ]
    }
   ],
   "source": [
    "for i in range(20):\n",
    "    grid, supply, demand = generate_transport_problem(4, 5, cost_lim=10)\n",
    "    res, loops = least_cost_cell(grid, supply, demand)\n",
    "    if (res == 0):\n",
    "        print(\"Skip!\")\n"
   ]
  }
 ],
 "metadata": {
  "kernelspec": {
   "display_name": "Python 3",
   "language": "python",
   "name": "python3"
  },
  "language_info": {
   "codemirror_mode": {
    "name": "ipython",
    "version": 3
   },
   "file_extension": ".py",
   "mimetype": "text/x-python",
   "name": "python",
   "nbconvert_exporter": "python",
   "pygments_lexer": "ipython3",
   "version": "3.10.6"
  },
  "orig_nbformat": 4
 },
 "nbformat": 4,
 "nbformat_minor": 2
}
